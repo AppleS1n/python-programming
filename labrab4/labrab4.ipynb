{
 "cells": [
  {
   "cell_type": "code",
   "execution_count": 11,
   "metadata": {},
   "outputs": [
    {
     "name": "stdout",
     "output_type": "stream",
     "text": [
      "Средний балл студент Сергеев Владислав Гильмутдинович по предмету ООП равен 3.3\n",
      "Средний балл по Философия равен: 3.8\n"
     ]
    }
   ],
   "source": [
    "class Student:\n",
    "    score = []\n",
    " \n",
    "    def __init__(self, name, score):\n",
    "        self._name = name\n",
    "        self._score = score\n",
    "        Student.score.append(score)\n",
    "    \n",
    "    def get_average(self, subject):\n",
    "        val = self._score[subject]\n",
    "        return sum(val) / len(val)\n",
    "\n",
    "def all_average(subject):\n",
    "    count = 0\n",
    "    score = 0\n",
    "    for i in Student.score:\n",
    "        all_predmet_avarage = i.get(subject)\n",
    "        for j in all_predmet_avarage:\n",
    "            score += j\n",
    "            count += 1\n",
    "    test = score / count\n",
    "    return f\"Средний балл по {subject} равен: {test:.1f}\"\n",
    " \n",
    "def info_get_average(name, subject):\n",
    "    for student in list:\n",
    "        if student._name == name:\n",
    "            res = student.get_average(subject)\n",
    "            return f\"Средний балл студент {name} по предмету {subject} равен {res:.1f}\"\n",
    "\n",
    "data = [(\"Гильмутдинов Владислав Сергеевич\", {\"Мат. методы\": [4, 5, 5], \"Информационные системы\": [3, 4, 4], \"Программирование Python\": [4, 5, 3], \"Английский язык\": [5, 2, 3], \"Психология взаимодействия в коллективе\": [3, 4, 4]}),\n",
    "                (\"Владыкина Дария Какая-то\", {\"Мат. методы\": [4, 3, 3], \"Информационные системы\": [5, 5, 4], \"Программирование Python\": [4, 4, 3], \"Английский язык\": [5, 4, 3], \"Психология взаимодействия в коллективе\": [3, 5, 4]}),\n",
    "                (\"Балакин Дмитрий Какой-то\", {\"Мат. методы\": [4, 2, 5], \"Информационные системы\": [3, 3, 4], \"Программирование Python\": [4, 4, 3], \"Английский язык\": [5, 3, 3], \"Психология взаимодействия в коллективе\": [3, 4, 4]}),\n",
    "                (\"Сергеев Владислав Гильмутдинович\", {\"Мат. методы\": [3, 3, 5], \"Информационные системы\": [5, 5, 5], \"Программирование Python\": [4, 3, 3], \"Английский язык\": [5, 5, 3], \"Психология взаимодействия в коллективе\": [3, 3, 5]})]\n",
    " \n",
    "list = [Student(*arg) for arg in data]\n",
    " \n",
    "print(info_get_average(\"Сергеев Владислав Гильмутдинович\", \"Программирование Python\"))\n",
    "print(all_average(\"Психология взаимодействия в коллективе\"))"
   ]
  }
 ],
 "metadata": {
  "kernelspec": {
   "display_name": "Python 3.9.12 ('base')",
   "language": "python",
   "name": "python3"
  },
  "language_info": {
   "codemirror_mode": {
    "name": "ipython",
    "version": 3
   },
   "file_extension": ".py",
   "mimetype": "text/x-python",
   "name": "python",
   "nbconvert_exporter": "python",
   "pygments_lexer": "ipython3",
   "version": "3.9.12"
  },
  "orig_nbformat": 4,
  "vscode": {
   "interpreter": {
    "hash": "6e9f2c9ff3167658364bd03b17d50958e2a6833a601f9b4cf27fe893b934345d"
   }
  }
 },
 "nbformat": 4,
 "nbformat_minor": 2
}
