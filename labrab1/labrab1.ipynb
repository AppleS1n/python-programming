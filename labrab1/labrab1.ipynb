{
 "cells": [
  {
   "cell_type": "code",
   "execution_count": 2,
   "metadata": {},
   "outputs": [
    {
     "name": "stdout",
     "output_type": "stream",
     "text": [
      "{'acs2': ['vladik', 'olya'], 'acs4': ['kolya', 'roma'], 'acs5': ['dima', 'dasha'], 'acs6': ['ksyusha', 'karina']}\n"
     ]
    }
   ],
   "source": [
    "#распределение по группам\n",
    "group_list = ['vladik', 'dima', 'dasha', 'kolya', 'ksyusha', 'karina', 'olya', 'roma']\n",
    "\n",
    "group_name = ['acs2', 'acs4', 'acs5', 'acs6']\n",
    "\n",
    "group_dict = {\n",
    "    group_name[0]:[group_list[0], group_list[6]],\n",
    "    group_name[1]:[group_list[3], group_list[7]],\n",
    "    group_name[2]:[group_list[1], group_list[2]],\n",
    "    group_name[3]:[group_list[4], group_list[5]]\n",
    "}\n",
    "\n",
    "print(group_dict)"
   ]
  },
  {
   "cell_type": "code",
   "execution_count": null,
   "metadata": {},
   "outputs": [],
   "source": []
  }
 ],
 "metadata": {
  "kernelspec": {
   "display_name": "Python 3.9.12 ('base')",
   "language": "python",
   "name": "python3"
  },
  "language_info": {
   "codemirror_mode": {
    "name": "ipython",
    "version": 3
   },
   "file_extension": ".py",
   "mimetype": "text/x-python",
   "name": "python",
   "nbconvert_exporter": "python",
   "pygments_lexer": "ipython3",
   "version": "3.9.12"
  },
  "orig_nbformat": 4,
  "vscode": {
   "interpreter": {
    "hash": "6e9f2c9ff3167658364bd03b17d50958e2a6833a601f9b4cf27fe893b934345d"
   }
  }
 },
 "nbformat": 4,
 "nbformat_minor": 2
}
